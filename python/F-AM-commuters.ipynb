{
 "cells": [
  {
   "cell_type": "code",
   "execution_count": null,
   "metadata": {},
   "outputs": [],
   "source": [
    "# F train\n",
    "# average AM enters / exits"
   ]
  },
  {
   "cell_type": "code",
   "execution_count": 1,
   "metadata": {},
   "outputs": [],
   "source": [
    "# import Dependencies\n",
    "import pandas as pd\n",
    "import numpy as np\n",
    "import matplotlib.pyplot as plta"
   ]
  },
  {
   "cell_type": "code",
   "execution_count": 2,
   "metadata": {},
   "outputs": [
    {
     "data": {
      "text/html": [
       "<div>\n",
       "<style scoped>\n",
       "    .dataframe tbody tr th:only-of-type {\n",
       "        vertical-align: middle;\n",
       "    }\n",
       "\n",
       "    .dataframe tbody tr th {\n",
       "        vertical-align: top;\n",
       "    }\n",
       "\n",
       "    .dataframe thead th {\n",
       "        text-align: right;\n",
       "    }\n",
       "</style>\n",
       "<table border=\"1\" class=\"dataframe\">\n",
       "  <thead>\n",
       "    <tr style=\"text-align: right;\">\n",
       "      <th></th>\n",
       "      <th>STATION</th>\n",
       "      <th>LINENAME</th>\n",
       "      <th>AM_ENTERS</th>\n",
       "      <th>AM_EXITS</th>\n",
       "    </tr>\n",
       "  </thead>\n",
       "  <tbody>\n",
       "    <tr>\n",
       "      <th>0</th>\n",
       "      <td>1 AV</td>\n",
       "      <td>L</td>\n",
       "      <td>2173.0</td>\n",
       "      <td>5427.0</td>\n",
       "    </tr>\n",
       "    <tr>\n",
       "      <th>1</th>\n",
       "      <td>103 ST</td>\n",
       "      <td>1</td>\n",
       "      <td>7888.0</td>\n",
       "      <td>1943.0</td>\n",
       "    </tr>\n",
       "    <tr>\n",
       "      <th>2</th>\n",
       "      <td>103 ST</td>\n",
       "      <td>6</td>\n",
       "      <td>8439.0</td>\n",
       "      <td>7932.0</td>\n",
       "    </tr>\n",
       "    <tr>\n",
       "      <th>3</th>\n",
       "      <td>103 ST</td>\n",
       "      <td>BC</td>\n",
       "      <td>4581.0</td>\n",
       "      <td>1183.0</td>\n",
       "    </tr>\n",
       "    <tr>\n",
       "      <th>4</th>\n",
       "      <td>103 ST-CORONA</td>\n",
       "      <td>7</td>\n",
       "      <td>22039.0</td>\n",
       "      <td>1903.0</td>\n",
       "    </tr>\n",
       "  </tbody>\n",
       "</table>\n",
       "</div>"
      ],
      "text/plain": [
       "         STATION LINENAME  AM_ENTERS  AM_EXITS\n",
       "0           1 AV        L     2173.0    5427.0\n",
       "1         103 ST        1     7888.0    1943.0\n",
       "2         103 ST        6     8439.0    7932.0\n",
       "3         103 ST       BC     4581.0    1183.0\n",
       "4  103 ST-CORONA        7    22039.0    1903.0"
      ]
     },
     "execution_count": 2,
     "metadata": {},
     "output_type": "execute_result"
    }
   ],
   "source": [
    "# dataframe with all enters/exits\n",
    "csv_path = 'ts_11_2018_am_tot.csv'\n",
    "am_commuters_11_2018 = pd.read_csv(csv_path, encoding=\"utf-8\")\n",
    "\n",
    "am_commuters_11_2018.head()"
   ]
  },
  {
   "cell_type": "code",
   "execution_count": 3,
   "metadata": {},
   "outputs": [],
   "source": [
    "# look at F line only\n",
    "F_train_all = am_commuters_11_2018[am_commuters_11_2018['LINENAME'].str.contains('F')]"
   ]
  },
  {
   "cell_type": "code",
   "execution_count": 4,
   "metadata": {},
   "outputs": [
    {
     "data": {
      "text/plain": [
       "array(['14 ST', '15 ST-PROSPECT', '169 ST', '18 AV', '2 AV',\n",
       "       '21 ST-QNSBRIDGE', '34 ST-HERALD SQ', '4 AV-9 ST',\n",
       "       '42 ST-BRYANT PK', '47-50 STS ROCK', '4AV-9 ST', '5 AVE', '6 AV',\n",
       "       '7 AV', '74 ST-BROADWAY', '75 AV', 'AVENUE I', 'AVENUE N',\n",
       "       'AVENUE P', 'AVENUE U', 'AVENUE X', \"B'WAY-LAFAYETTE\", 'BAY PKWY',\n",
       "       'BERGEN ST', 'BLEECKER ST', 'BRIARWOOD', 'CARROLL ST', 'CHURCH AV',\n",
       "       'CONEY IS-STILLW', 'DELANCEY/ESSEX', 'DITMAS AV', 'EAST BROADWAY',\n",
       "       'FOREST HILLS 71', 'FT HAMILTON PKY', 'JAMAICA 179 ST',\n",
       "       'JAY ST-METROTEC', 'JKSN HT-ROOSVLT', 'KEW GARDENS', 'KINGS HWY',\n",
       "       'LEXINGTON AV/63', 'NEPTUNE AV', 'PARSONS BLVD', 'ROOSEVELT ISLND',\n",
       "       'SMITH-9 ST', 'SUTPHIN BLVD', 'W 4 ST-WASH SQ', 'W 8 ST-AQUARIUM',\n",
       "       'YORK ST'], dtype=object)"
      ]
     },
     "execution_count": 4,
     "metadata": {},
     "output_type": "execute_result"
    }
   ],
   "source": [
    "# look at all station names\n",
    "F_train_all['STATION'].unique()"
   ]
  },
  {
   "cell_type": "code",
   "execution_count": 5,
   "metadata": {},
   "outputs": [
    {
     "data": {
      "text/plain": [
       "49"
      ]
     },
     "execution_count": 5,
     "metadata": {},
     "output_type": "execute_result"
    }
   ],
   "source": [
    "# check station count\n",
    "F_train_all['STATION'].count()"
   ]
  },
  {
   "cell_type": "code",
   "execution_count": 7,
   "metadata": {},
   "outputs": [],
   "source": [
    "# needs further cleaning\n",
    "F_train_all[\"STATION\"].replace(\"74 ST-BROADWAY\", value=\"JKSN HT-ROOSVLT\", inplace=True)\n",
    "F_train_all[\"STATION\"].replace(\"5 AVE\", value=\"42 ST-BRYANT PK\", inplace=True)\n",
    "F_train_all[\"STATION\"].replace(\"BLEECKER ST\", value=\"B'WAY-LAFAYETTE\", inplace=True)\n",
    "F_train_all[\"STATION\"].replace(\"4AV-9 ST\", value=\"4 AV-9 ST\", inplace=True)"
   ]
  },
  {
   "cell_type": "code",
   "execution_count": 12,
   "metadata": {},
   "outputs": [
    {
     "data": {
      "text/html": [
       "<div>\n",
       "<style scoped>\n",
       "    .dataframe tbody tr th:only-of-type {\n",
       "        vertical-align: middle;\n",
       "    }\n",
       "\n",
       "    .dataframe tbody tr th {\n",
       "        vertical-align: top;\n",
       "    }\n",
       "\n",
       "    .dataframe thead th {\n",
       "        text-align: right;\n",
       "    }\n",
       "</style>\n",
       "<table border=\"1\" class=\"dataframe\">\n",
       "  <thead>\n",
       "    <tr style=\"text-align: right;\">\n",
       "      <th></th>\n",
       "      <th>AM_ENTERS</th>\n",
       "      <th>AM_EXITS</th>\n",
       "    </tr>\n",
       "    <tr>\n",
       "      <th>STATION</th>\n",
       "      <th></th>\n",
       "      <th></th>\n",
       "    </tr>\n",
       "  </thead>\n",
       "  <tbody>\n",
       "    <tr>\n",
       "      <th>14 ST</th>\n",
       "      <td>5370.0</td>\n",
       "      <td>7648.0</td>\n",
       "    </tr>\n",
       "    <tr>\n",
       "      <th>15 ST-PROSPECT</th>\n",
       "      <td>3160.0</td>\n",
       "      <td>578.0</td>\n",
       "    </tr>\n",
       "    <tr>\n",
       "      <th>169 ST</th>\n",
       "      <td>7302.0</td>\n",
       "      <td>1477.0</td>\n",
       "    </tr>\n",
       "    <tr>\n",
       "      <th>18 AV</th>\n",
       "      <td>2050.0</td>\n",
       "      <td>315.0</td>\n",
       "    </tr>\n",
       "    <tr>\n",
       "      <th>2 AV</th>\n",
       "      <td>2035.0</td>\n",
       "      <td>2595.0</td>\n",
       "    </tr>\n",
       "  </tbody>\n",
       "</table>\n",
       "</div>"
      ],
      "text/plain": [
       "                AM_ENTERS  AM_EXITS\n",
       "STATION                            \n",
       "14 ST              5370.0    7648.0\n",
       "15 ST-PROSPECT     3160.0     578.0\n",
       "169 ST             7302.0    1477.0\n",
       "18 AV              2050.0     315.0\n",
       "2 AV               2035.0    2595.0"
      ]
     },
     "execution_count": 12,
     "metadata": {},
     "output_type": "execute_result"
    }
   ],
   "source": [
    "# now sum same name rows\n",
    "F_commuters = F_train_all.groupby(['STATION'])[['AM_ENTERS','AM_EXITS']].sum()\n",
    "F_commuters.head()"
   ]
  },
  {
   "cell_type": "code",
   "execution_count": 10,
   "metadata": {},
   "outputs": [],
   "source": [
    "# order stations in excel\n",
    "# save as csv\n",
    "F_commuters.to_csv('F_commuters.csv')"
   ]
  },
  {
   "cell_type": "code",
   "execution_count": 13,
   "metadata": {},
   "outputs": [
    {
     "data": {
      "text/html": [
       "<div>\n",
       "<style scoped>\n",
       "    .dataframe tbody tr th:only-of-type {\n",
       "        vertical-align: middle;\n",
       "    }\n",
       "\n",
       "    .dataframe tbody tr th {\n",
       "        vertical-align: top;\n",
       "    }\n",
       "\n",
       "    .dataframe thead th {\n",
       "        text-align: right;\n",
       "    }\n",
       "</style>\n",
       "<table border=\"1\" class=\"dataframe\">\n",
       "  <thead>\n",
       "    <tr style=\"text-align: right;\">\n",
       "      <th></th>\n",
       "      <th>STATION</th>\n",
       "      <th>AM_ENTERS</th>\n",
       "      <th>AM_EXITS</th>\n",
       "    </tr>\n",
       "  </thead>\n",
       "  <tbody>\n",
       "    <tr>\n",
       "      <th>0</th>\n",
       "      <td>JAMAICA 179 ST</td>\n",
       "      <td>22470</td>\n",
       "      <td>1836</td>\n",
       "    </tr>\n",
       "    <tr>\n",
       "      <th>1</th>\n",
       "      <td>169 ST</td>\n",
       "      <td>7302</td>\n",
       "      <td>1477</td>\n",
       "    </tr>\n",
       "    <tr>\n",
       "      <th>2</th>\n",
       "      <td>PARSONS BLVD</td>\n",
       "      <td>5275</td>\n",
       "      <td>1483</td>\n",
       "    </tr>\n",
       "    <tr>\n",
       "      <th>3</th>\n",
       "      <td>SUTPHIN BLVD</td>\n",
       "      <td>6212</td>\n",
       "      <td>1035</td>\n",
       "    </tr>\n",
       "    <tr>\n",
       "      <th>4</th>\n",
       "      <td>BRIARWOOD</td>\n",
       "      <td>3372</td>\n",
       "      <td>447</td>\n",
       "    </tr>\n",
       "  </tbody>\n",
       "</table>\n",
       "</div>"
      ],
      "text/plain": [
       "          STATION  AM_ENTERS  AM_EXITS\n",
       "0  JAMAICA 179 ST      22470      1836\n",
       "1          169 ST       7302      1477\n",
       "2    PARSONS BLVD       5275      1483\n",
       "3    SUTPHIN BLVD       6212      1035\n",
       "4       BRIARWOOD       3372       447"
      ]
     },
     "execution_count": 13,
     "metadata": {},
     "output_type": "execute_result"
    }
   ],
   "source": [
    "# open ordered CSV\n",
    "csv_path_F = 'F_commuters_order.csv'\n",
    "F_commuters_order = pd.read_csv(csv_path_F, encoding=\"utf-8\")\n",
    "F_commuters_order.head()"
   ]
  },
  {
   "cell_type": "code",
   "execution_count": 14,
   "metadata": {},
   "outputs": [],
   "source": [
    "F_commuters_order['AM_AVG_ENTER'] = F_commuters_order['AM_ENTERS']/5"
   ]
  },
  {
   "cell_type": "code",
   "execution_count": 15,
   "metadata": {},
   "outputs": [
    {
     "data": {
      "text/html": [
       "<div>\n",
       "<style scoped>\n",
       "    .dataframe tbody tr th:only-of-type {\n",
       "        vertical-align: middle;\n",
       "    }\n",
       "\n",
       "    .dataframe tbody tr th {\n",
       "        vertical-align: top;\n",
       "    }\n",
       "\n",
       "    .dataframe thead th {\n",
       "        text-align: right;\n",
       "    }\n",
       "</style>\n",
       "<table border=\"1\" class=\"dataframe\">\n",
       "  <thead>\n",
       "    <tr style=\"text-align: right;\">\n",
       "      <th></th>\n",
       "      <th>STATION</th>\n",
       "      <th>AM_ENTERS</th>\n",
       "      <th>AM_EXITS</th>\n",
       "      <th>AM_AVG_ENTER</th>\n",
       "      <th>AM_AVG_EXIT</th>\n",
       "    </tr>\n",
       "  </thead>\n",
       "  <tbody>\n",
       "    <tr>\n",
       "      <th>0</th>\n",
       "      <td>JAMAICA 179 ST</td>\n",
       "      <td>22470</td>\n",
       "      <td>1836</td>\n",
       "      <td>4494.0</td>\n",
       "      <td>367.2</td>\n",
       "    </tr>\n",
       "    <tr>\n",
       "      <th>1</th>\n",
       "      <td>169 ST</td>\n",
       "      <td>7302</td>\n",
       "      <td>1477</td>\n",
       "      <td>1460.4</td>\n",
       "      <td>295.4</td>\n",
       "    </tr>\n",
       "    <tr>\n",
       "      <th>2</th>\n",
       "      <td>PARSONS BLVD</td>\n",
       "      <td>5275</td>\n",
       "      <td>1483</td>\n",
       "      <td>1055.0</td>\n",
       "      <td>296.6</td>\n",
       "    </tr>\n",
       "    <tr>\n",
       "      <th>3</th>\n",
       "      <td>SUTPHIN BLVD</td>\n",
       "      <td>6212</td>\n",
       "      <td>1035</td>\n",
       "      <td>1242.4</td>\n",
       "      <td>207.0</td>\n",
       "    </tr>\n",
       "    <tr>\n",
       "      <th>4</th>\n",
       "      <td>BRIARWOOD</td>\n",
       "      <td>3372</td>\n",
       "      <td>447</td>\n",
       "      <td>674.4</td>\n",
       "      <td>89.4</td>\n",
       "    </tr>\n",
       "  </tbody>\n",
       "</table>\n",
       "</div>"
      ],
      "text/plain": [
       "          STATION  AM_ENTERS  AM_EXITS  AM_AVG_ENTER  AM_AVG_EXIT\n",
       "0  JAMAICA 179 ST      22470      1836        4494.0        367.2\n",
       "1          169 ST       7302      1477        1460.4        295.4\n",
       "2    PARSONS BLVD       5275      1483        1055.0        296.6\n",
       "3    SUTPHIN BLVD       6212      1035        1242.4        207.0\n",
       "4       BRIARWOOD       3372       447         674.4         89.4"
      ]
     },
     "execution_count": 15,
     "metadata": {},
     "output_type": "execute_result"
    }
   ],
   "source": [
    "F_commuters_order['AM_AVG_EXIT'] = F_commuters_order['AM_EXITS']/5\n",
    "F_commuters_order.head()"
   ]
  },
  {
   "cell_type": "code",
   "execution_count": 16,
   "metadata": {},
   "outputs": [],
   "source": [
    "# order stations in excel\n",
    "# save as csv\n",
    "F_commuters_order.to_csv('F_commuters_final.csv')"
   ]
  },
  {
   "cell_type": "code",
   "execution_count": 17,
   "metadata": {},
   "outputs": [
    {
     "data": {
      "image/png": "[encoded data removed]",
      "text/plain": [
       "<Figure size 432x288 with 1 Axes>"
      ]
     },
     "metadata": {
      "needs_background": "light"
     },
     "output_type": "display_data"
    }
   ],
   "source": [
    "# graph F Train AM AVG ENTERS\n",
    "plt = F_commuters_order.plot('STATION','AM_AVG_ENTER', kind='bar', color='#FF6319')\n",
    "plt.grid()\n",
    "\n",
    "# save the fig\n",
    "plt.figure.savefig('F-AM-enter.pdf')"
   ]
  },
  {
   "cell_type": "code",
   "execution_count": 18,
   "metadata": {},
   "outputs": [
    {
     "data": {
      "image/png": "[encoded data removed]",
      "text/plain": [
       "<Figure size 432x288 with 1 Axes>"
      ]
     },
     "metadata": {
      "needs_background": "light"
     },
     "output_type": "display_data"
    }
   ],
   "source": [
    "# graph F Train AM AVG EXITS\n",
    "plt = F_commuters_order.plot('STATION','AM_AVG_EXIT', kind='bar', color='#FF6319')\n",
    "plt.grid()\n",
    "\n",
    "\n",
    "# save the fig\n",
    "plt.figure.savefig('F-AM-exit.pdf')"
   ]
  },
  {
   "cell_type": "code",
   "execution_count": null,
   "metadata": {},
   "outputs": [],
   "source": []
  },
  {
   "cell_type": "code",
   "execution_count": null,
   "metadata": {},
   "outputs": [],
   "source": []
  }
 ],
 "metadata": {
  "kernelspec": {
   "display_name": "Python 3",
   "language": "python",
   "name": "python3"
  },
  "language_info": {
   "codemirror_mode": {
    "name": "ipython",
    "version": 3
   },
   "file_extension": ".py",
   "mimetype": "text/x-python",
   "name": "python",
   "nbconvert_exporter": "python",
   "pygments_lexer": "ipython3",
   "version": "3.7.3"
  }
 },
 "nbformat": 4,
 "nbformat_minor": 2
}
