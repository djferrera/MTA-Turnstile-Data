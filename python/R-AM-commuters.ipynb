{
 "cells": [
  {
   "cell_type": "code",
   "execution_count": 1,
   "metadata": {},
   "outputs": [],
   "source": [
    "# R train\n",
    "# average AM enters / exits"
   ]
  },
  {
   "cell_type": "code",
   "execution_count": 1,
   "metadata": {},
   "outputs": [],
   "source": [
    "# import Dependencies\n",
    "import pandas as pd\n",
    "import numpy as np\n",
    "import matplotlib.pyplot as plta"
   ]
  },
  {
   "cell_type": "code",
   "execution_count": 2,
   "metadata": {},
   "outputs": [
    {
     "data": {
      "text/html": [
       "<div>\n",
       "<style scoped>\n",
       "    .dataframe tbody tr th:only-of-type {\n",
       "        vertical-align: middle;\n",
       "    }\n",
       "\n",
       "    .dataframe tbody tr th {\n",
       "        vertical-align: top;\n",
       "    }\n",
       "\n",
       "    .dataframe thead th {\n",
       "        text-align: right;\n",
       "    }\n",
       "</style>\n",
       "<table border=\"1\" class=\"dataframe\">\n",
       "  <thead>\n",
       "    <tr style=\"text-align: right;\">\n",
       "      <th></th>\n",
       "      <th>STATION</th>\n",
       "      <th>LINENAME</th>\n",
       "      <th>AM_ENTERS</th>\n",
       "      <th>AM_EXITS</th>\n",
       "    </tr>\n",
       "  </thead>\n",
       "  <tbody>\n",
       "    <tr>\n",
       "      <th>0</th>\n",
       "      <td>1 AV</td>\n",
       "      <td>L</td>\n",
       "      <td>2173.0</td>\n",
       "      <td>5427.0</td>\n",
       "    </tr>\n",
       "    <tr>\n",
       "      <th>1</th>\n",
       "      <td>103 ST</td>\n",
       "      <td>1</td>\n",
       "      <td>7888.0</td>\n",
       "      <td>1943.0</td>\n",
       "    </tr>\n",
       "    <tr>\n",
       "      <th>2</th>\n",
       "      <td>103 ST</td>\n",
       "      <td>6</td>\n",
       "      <td>8439.0</td>\n",
       "      <td>7932.0</td>\n",
       "    </tr>\n",
       "    <tr>\n",
       "      <th>3</th>\n",
       "      <td>103 ST</td>\n",
       "      <td>BC</td>\n",
       "      <td>4581.0</td>\n",
       "      <td>1183.0</td>\n",
       "    </tr>\n",
       "    <tr>\n",
       "      <th>4</th>\n",
       "      <td>103 ST-CORONA</td>\n",
       "      <td>7</td>\n",
       "      <td>22039.0</td>\n",
       "      <td>1903.0</td>\n",
       "    </tr>\n",
       "  </tbody>\n",
       "</table>\n",
       "</div>"
      ],
      "text/plain": [
       "         STATION LINENAME  AM_ENTERS  AM_EXITS\n",
       "0           1 AV        L     2173.0    5427.0\n",
       "1         103 ST        1     7888.0    1943.0\n",
       "2         103 ST        6     8439.0    7932.0\n",
       "3         103 ST       BC     4581.0    1183.0\n",
       "4  103 ST-CORONA        7    22039.0    1903.0"
      ]
     },
     "execution_count": 2,
     "metadata": {},
     "output_type": "execute_result"
    }
   ],
   "source": [
    "# dataframe with all enters/exits\n",
    "csv_path = 'ts_11_2018_am_tot.csv'\n",
    "am_commuters_11_2018 = pd.read_csv(csv_path, encoding=\"utf-8\")\n",
    "\n",
    "am_commuters_11_2018.head()"
   ]
  },
  {
   "cell_type": "code",
   "execution_count": 3,
   "metadata": {},
   "outputs": [],
   "source": [
    "# look at R line only\n",
    "R_train_all = am_commuters_11_2018[am_commuters_11_2018['LINENAME'].str.contains('R')]"
   ]
  },
  {
   "cell_type": "code",
   "execution_count": 4,
   "metadata": {},
   "outputs": [
    {
     "data": {
      "text/plain": [
       "array(['14 ST-UNION SQ', '23 ST', '25 ST', '28 ST', '34 ST-HERALD SQ',\n",
       "       '36 ST', '4 AV-9 ST', '42 ST-PORT AUTH', '45 ST', '46 ST', '49 ST',\n",
       "       '4AV-9 ST', '5 AV/59 ST', '53 ST', '57 ST-7 AV', '59 ST',\n",
       "       '63 DR-REGO PARK', '65 ST', '67 AV', '74 ST-BROADWAY', '77 ST',\n",
       "       '8 ST-NYU', '86 ST', 'ATL AV-BARCLAY', 'BAY RIDGE AV',\n",
       "       'BAY RIDGE-95 ST', 'BOROUGH HALL', 'CANAL ST', 'CITY HALL',\n",
       "       'CORTLANDT ST', 'DEKALB AV', 'ELMHURST AV', 'FOREST HILLS 71',\n",
       "       'GRAND-NEWTOWN', 'JAY ST-METROTEC', 'JKSN HT-ROOSVLT',\n",
       "       'NORTHERN BLVD', 'PRINCE ST', 'PROSPECT AV', 'QUEENS PLAZA',\n",
       "       'RECTOR ST', 'RIT-MANHATTAN', 'SOUTH FERRY', 'STEINWAY ST',\n",
       "       'TIMES SQ-42 ST', 'UNION ST', 'WHITEHALL S-FRY', 'WOODHAVEN BLVD'],\n",
       "      dtype=object)"
      ]
     },
     "execution_count": 4,
     "metadata": {},
     "output_type": "execute_result"
    }
   ],
   "source": [
    "# look at all station names\n",
    "R_train_all['STATION'].unique()"
   ]
  },
  {
   "cell_type": "code",
   "execution_count": 5,
   "metadata": {},
   "outputs": [
    {
     "data": {
      "text/plain": [
       "57"
      ]
     },
     "execution_count": 5,
     "metadata": {},
     "output_type": "execute_result"
    }
   ],
   "source": [
    "# check station count\n",
    "R_train_all['STATION'].count()"
   ]
  },
  {
   "cell_type": "code",
   "execution_count": 6,
   "metadata": {},
   "outputs": [
    {
     "data": {
      "text/html": [
       "<div>\n",
       "<style scoped>\n",
       "    .dataframe tbody tr th:only-of-type {\n",
       "        vertical-align: middle;\n",
       "    }\n",
       "\n",
       "    .dataframe tbody tr th {\n",
       "        vertical-align: top;\n",
       "    }\n",
       "\n",
       "    .dataframe thead th {\n",
       "        text-align: right;\n",
       "    }\n",
       "</style>\n",
       "<table border=\"1\" class=\"dataframe\">\n",
       "  <thead>\n",
       "    <tr style=\"text-align: right;\">\n",
       "      <th></th>\n",
       "      <th>STATION</th>\n",
       "      <th>LINENAME</th>\n",
       "      <th>AM_ENTERS</th>\n",
       "      <th>AM_EXITS</th>\n",
       "    </tr>\n",
       "  </thead>\n",
       "  <tbody>\n",
       "    <tr>\n",
       "      <th>115</th>\n",
       "      <td>59 ST</td>\n",
       "      <td>456NQRW</td>\n",
       "      <td>2201.0</td>\n",
       "      <td>12231.0</td>\n",
       "    </tr>\n",
       "    <tr>\n",
       "      <th>116</th>\n",
       "      <td>59 ST</td>\n",
       "      <td>NQR456W</td>\n",
       "      <td>601.0</td>\n",
       "      <td>1950.0</td>\n",
       "    </tr>\n",
       "    <tr>\n",
       "      <th>117</th>\n",
       "      <td>59 ST</td>\n",
       "      <td>NRW</td>\n",
       "      <td>6767.0</td>\n",
       "      <td>1097.0</td>\n",
       "    </tr>\n",
       "  </tbody>\n",
       "</table>\n",
       "</div>"
      ],
      "text/plain": [
       "    STATION LINENAME  AM_ENTERS  AM_EXITS\n",
       "115   59 ST  456NQRW     2201.0   12231.0\n",
       "116   59 ST  NQR456W      601.0    1950.0\n",
       "117   59 ST      NRW     6767.0    1097.0"
      ]
     },
     "execution_count": 6,
     "metadata": {},
     "output_type": "execute_result"
    }
   ],
   "source": [
    "R_train_all[R_train_all['STATION'] == '59 ST']"
   ]
  },
  {
   "cell_type": "code",
   "execution_count": 8,
   "metadata": {},
   "outputs": [],
   "source": [
    "# need to differentiate the two 59 ST before merging\n",
    "R_train_all.loc[(R_train_all.STATION == '59 ST') & (R_train_all.LINENAME == \"NRW\"),\n",
    "                'STATION'] = \"59 ST 4 AV\""
   ]
  },
  {
   "cell_type": "code",
   "execution_count": 9,
   "metadata": {},
   "outputs": [
    {
     "data": {
      "text/html": [
       "<div>\n",
       "<style scoped>\n",
       "    .dataframe tbody tr th:only-of-type {\n",
       "        vertical-align: middle;\n",
       "    }\n",
       "\n",
       "    .dataframe tbody tr th {\n",
       "        vertical-align: top;\n",
       "    }\n",
       "\n",
       "    .dataframe thead th {\n",
       "        text-align: right;\n",
       "    }\n",
       "</style>\n",
       "<table border=\"1\" class=\"dataframe\">\n",
       "  <thead>\n",
       "    <tr style=\"text-align: right;\">\n",
       "      <th></th>\n",
       "      <th>STATION</th>\n",
       "      <th>LINENAME</th>\n",
       "      <th>AM_ENTERS</th>\n",
       "      <th>AM_EXITS</th>\n",
       "    </tr>\n",
       "  </thead>\n",
       "  <tbody>\n",
       "    <tr>\n",
       "      <th>91</th>\n",
       "      <td>36 ST</td>\n",
       "      <td>DNR</td>\n",
       "      <td>8497.0</td>\n",
       "      <td>2805.0</td>\n",
       "    </tr>\n",
       "    <tr>\n",
       "      <th>92</th>\n",
       "      <td>36 ST</td>\n",
       "      <td>MR</td>\n",
       "      <td>1761.0</td>\n",
       "      <td>3554.0</td>\n",
       "    </tr>\n",
       "  </tbody>\n",
       "</table>\n",
       "</div>"
      ],
      "text/plain": [
       "   STATION LINENAME  AM_ENTERS  AM_EXITS\n",
       "91   36 ST      DNR     8497.0    2805.0\n",
       "92   36 ST       MR     1761.0    3554.0"
      ]
     },
     "execution_count": 9,
     "metadata": {},
     "output_type": "execute_result"
    }
   ],
   "source": [
    "R_train_all[R_train_all['STATION'] == '36 ST']"
   ]
  },
  {
   "cell_type": "code",
   "execution_count": 10,
   "metadata": {},
   "outputs": [],
   "source": [
    "# need to differentiate the two 59 ST before merging\n",
    "R_train_all.loc[(R_train_all.STATION == '36 ST') & (R_train_all.LINENAME == \"DNR\"),\n",
    "                'STATION'] = \"36 ST 4 AV\""
   ]
  },
  {
   "cell_type": "code",
   "execution_count": 12,
   "metadata": {},
   "outputs": [],
   "source": [
    "# needs further cleaning\n",
    "R_train_all[\"STATION\"].replace(\"42 ST-PORT AUTH\", value=\"TIMES SQ-42 ST\", inplace=True)\n",
    "R_train_all[\"STATION\"].replace(\"74 ST-BROADWAY\", value=\"JKSN HT-ROOSVLT\", inplace=True)\n",
    "R_train_all[\"STATION\"].replace(\"SOUTH FERRY\", value=\"WHITEHALL S-FRY\", inplace=True)\n",
    "R_train_all[\"STATION\"].replace(\"4AV-9 ST\", value=\"4 AV-9 ST\", inplace=True)"
   ]
  },
  {
   "cell_type": "code",
   "execution_count": 13,
   "metadata": {},
   "outputs": [
    {
     "data": {
      "text/html": [
       "<div>\n",
       "<style scoped>\n",
       "    .dataframe tbody tr th:only-of-type {\n",
       "        vertical-align: middle;\n",
       "    }\n",
       "\n",
       "    .dataframe tbody tr th {\n",
       "        vertical-align: top;\n",
       "    }\n",
       "\n",
       "    .dataframe thead th {\n",
       "        text-align: right;\n",
       "    }\n",
       "</style>\n",
       "<table border=\"1\" class=\"dataframe\">\n",
       "  <thead>\n",
       "    <tr style=\"text-align: right;\">\n",
       "      <th></th>\n",
       "      <th>AM_ENTERS</th>\n",
       "      <th>AM_EXITS</th>\n",
       "    </tr>\n",
       "    <tr>\n",
       "      <th>STATION</th>\n",
       "      <th></th>\n",
       "      <th></th>\n",
       "    </tr>\n",
       "  </thead>\n",
       "  <tbody>\n",
       "    <tr>\n",
       "      <th>14 ST-UNION SQ</th>\n",
       "      <td>17962.0</td>\n",
       "      <td>48134.0</td>\n",
       "    </tr>\n",
       "    <tr>\n",
       "      <th>23 ST</th>\n",
       "      <td>982.0</td>\n",
       "      <td>2788.0</td>\n",
       "    </tr>\n",
       "    <tr>\n",
       "      <th>25 ST</th>\n",
       "      <td>881.0</td>\n",
       "      <td>759.0</td>\n",
       "    </tr>\n",
       "    <tr>\n",
       "      <th>28 ST</th>\n",
       "      <td>623.0</td>\n",
       "      <td>3079.0</td>\n",
       "    </tr>\n",
       "    <tr>\n",
       "      <th>34 ST-HERALD SQ</th>\n",
       "      <td>14027.0</td>\n",
       "      <td>21487.0</td>\n",
       "    </tr>\n",
       "  </tbody>\n",
       "</table>\n",
       "</div>"
      ],
      "text/plain": [
       "                 AM_ENTERS  AM_EXITS\n",
       "STATION                             \n",
       "14 ST-UNION SQ     17962.0   48134.0\n",
       "23 ST                982.0    2788.0\n",
       "25 ST                881.0     759.0\n",
       "28 ST                623.0    3079.0\n",
       "34 ST-HERALD SQ    14027.0   21487.0"
      ]
     },
     "execution_count": 13,
     "metadata": {},
     "output_type": "execute_result"
    }
   ],
   "source": [
    "# now sum same name rows\n",
    "R_commuters = R_train_all.groupby(['STATION'])[['AM_ENTERS','AM_EXITS']].sum()\n",
    "R_commuters.head()"
   ]
  },
  {
   "cell_type": "code",
   "execution_count": 14,
   "metadata": {},
   "outputs": [],
   "source": [
    "# order stations in excel\n",
    "# save as csv\n",
    "R_commuters.to_csv('R_commuters.csv')"
   ]
  },
  {
   "cell_type": "code",
   "execution_count": 15,
   "metadata": {},
   "outputs": [
    {
     "data": {
      "text/html": [
       "<div>\n",
       "<style scoped>\n",
       "    .dataframe tbody tr th:only-of-type {\n",
       "        vertical-align: middle;\n",
       "    }\n",
       "\n",
       "    .dataframe tbody tr th {\n",
       "        vertical-align: top;\n",
       "    }\n",
       "\n",
       "    .dataframe thead th {\n",
       "        text-align: right;\n",
       "    }\n",
       "</style>\n",
       "<table border=\"1\" class=\"dataframe\">\n",
       "  <thead>\n",
       "    <tr style=\"text-align: right;\">\n",
       "      <th></th>\n",
       "      <th>STATION</th>\n",
       "      <th>AM_ENTERS</th>\n",
       "      <th>AM_EXITS</th>\n",
       "    </tr>\n",
       "  </thead>\n",
       "  <tbody>\n",
       "    <tr>\n",
       "      <th>0</th>\n",
       "      <td>FOREST HILLS 71</td>\n",
       "      <td>31689</td>\n",
       "      <td>4103</td>\n",
       "    </tr>\n",
       "    <tr>\n",
       "      <th>1</th>\n",
       "      <td>67 AV</td>\n",
       "      <td>6762</td>\n",
       "      <td>884</td>\n",
       "    </tr>\n",
       "    <tr>\n",
       "      <th>2</th>\n",
       "      <td>63 DR-REGO PARK</td>\n",
       "      <td>7434</td>\n",
       "      <td>783</td>\n",
       "    </tr>\n",
       "    <tr>\n",
       "      <th>3</th>\n",
       "      <td>WOODHAVEN BLVD</td>\n",
       "      <td>25602</td>\n",
       "      <td>2431</td>\n",
       "    </tr>\n",
       "    <tr>\n",
       "      <th>4</th>\n",
       "      <td>GRAND-NEWTOWN</td>\n",
       "      <td>12594</td>\n",
       "      <td>1116</td>\n",
       "    </tr>\n",
       "  </tbody>\n",
       "</table>\n",
       "</div>"
      ],
      "text/plain": [
       "           STATION  AM_ENTERS  AM_EXITS\n",
       "0  FOREST HILLS 71      31689      4103\n",
       "1            67 AV       6762       884\n",
       "2  63 DR-REGO PARK       7434       783\n",
       "3   WOODHAVEN BLVD      25602      2431\n",
       "4    GRAND-NEWTOWN      12594      1116"
      ]
     },
     "execution_count": 15,
     "metadata": {},
     "output_type": "execute_result"
    }
   ],
   "source": [
    "# open ordered CSV\n",
    "csv_path_R = 'R_commuters_order.csv'\n",
    "R_commuters_order = pd.read_csv(csv_path_R, encoding=\"utf-8\")\n",
    "R_commuters_order.head()"
   ]
  },
  {
   "cell_type": "code",
   "execution_count": 18,
   "metadata": {},
   "outputs": [],
   "source": [
    "R_commuters_order['AM_AVG_ENTER'] = R_commuters_order['AM_ENTERS']/5"
   ]
  },
  {
   "cell_type": "code",
   "execution_count": 19,
   "metadata": {},
   "outputs": [
    {
     "data": {
      "text/html": [
       "<div>\n",
       "<style scoped>\n",
       "    .dataframe tbody tr th:only-of-type {\n",
       "        vertical-align: middle;\n",
       "    }\n",
       "\n",
       "    .dataframe tbody tr th {\n",
       "        vertical-align: top;\n",
       "    }\n",
       "\n",
       "    .dataframe thead th {\n",
       "        text-align: right;\n",
       "    }\n",
       "</style>\n",
       "<table border=\"1\" class=\"dataframe\">\n",
       "  <thead>\n",
       "    <tr style=\"text-align: right;\">\n",
       "      <th></th>\n",
       "      <th>STATION</th>\n",
       "      <th>AM_ENTERS</th>\n",
       "      <th>AM_EXITS</th>\n",
       "      <th>AM_AVG_ENTER</th>\n",
       "      <th>AM_AVG_EXIT</th>\n",
       "    </tr>\n",
       "  </thead>\n",
       "  <tbody>\n",
       "    <tr>\n",
       "      <th>0</th>\n",
       "      <td>FOREST HILLS 71</td>\n",
       "      <td>31689</td>\n",
       "      <td>4103</td>\n",
       "      <td>6337.8</td>\n",
       "      <td>820.6</td>\n",
       "    </tr>\n",
       "    <tr>\n",
       "      <th>1</th>\n",
       "      <td>67 AV</td>\n",
       "      <td>6762</td>\n",
       "      <td>884</td>\n",
       "      <td>1352.4</td>\n",
       "      <td>176.8</td>\n",
       "    </tr>\n",
       "    <tr>\n",
       "      <th>2</th>\n",
       "      <td>63 DR-REGO PARK</td>\n",
       "      <td>7434</td>\n",
       "      <td>783</td>\n",
       "      <td>1486.8</td>\n",
       "      <td>156.6</td>\n",
       "    </tr>\n",
       "    <tr>\n",
       "      <th>3</th>\n",
       "      <td>WOODHAVEN BLVD</td>\n",
       "      <td>25602</td>\n",
       "      <td>2431</td>\n",
       "      <td>5120.4</td>\n",
       "      <td>486.2</td>\n",
       "    </tr>\n",
       "    <tr>\n",
       "      <th>4</th>\n",
       "      <td>GRAND-NEWTOWN</td>\n",
       "      <td>12594</td>\n",
       "      <td>1116</td>\n",
       "      <td>2518.8</td>\n",
       "      <td>223.2</td>\n",
       "    </tr>\n",
       "  </tbody>\n",
       "</table>\n",
       "</div>"
      ],
      "text/plain": [
       "           STATION  AM_ENTERS  AM_EXITS  AM_AVG_ENTER  AM_AVG_EXIT\n",
       "0  FOREST HILLS 71      31689      4103        6337.8        820.6\n",
       "1            67 AV       6762       884        1352.4        176.8\n",
       "2  63 DR-REGO PARK       7434       783        1486.8        156.6\n",
       "3   WOODHAVEN BLVD      25602      2431        5120.4        486.2\n",
       "4    GRAND-NEWTOWN      12594      1116        2518.8        223.2"
      ]
     },
     "execution_count": 19,
     "metadata": {},
     "output_type": "execute_result"
    }
   ],
   "source": [
    "R_commuters_order['AM_AVG_EXIT'] = R_commuters_order['AM_EXITS']/5\n",
    "R_commuters_order.head()"
   ]
  },
  {
   "cell_type": "code",
   "execution_count": 20,
   "metadata": {},
   "outputs": [
    {
     "data": {
      "image/png": "[encoded data removed]",
      "text/plain": [
       "<Figure size 432x288 with 1 Axes>"
      ]
     },
     "metadata": {
      "needs_background": "light"
     },
     "output_type": "display_data"
    }
   ],
   "source": [
    "# graph R Train AM AVG ENTERS\n",
    "plt = R_commuters_order.plot('STATION','AM_AVG_ENTER', kind='bar', color='#FCCC0A')\n",
    "plt.grid()\n",
    "\n",
    "# save the fig\n",
    "plt.figure.savefig('R-AM-enter.pdf')"
   ]
  },
  {
   "cell_type": "code",
   "execution_count": 21,
   "metadata": {},
   "outputs": [],
   "source": [
    "# order stations in excel\n",
    "# save as csv\n",
    "R_commuters_order.to_csv('R_commuters_final.csv')"
   ]
  },
  {
   "cell_type": "code",
   "execution_count": 22,
   "metadata": {},
   "outputs": [
    {
     "data": {
      "image/png": "[encoded data removed]",
      "text/plain": [
       "<Figure size 432x288 with 1 Axes>"
      ]
     },
     "metadata": {
      "needs_background": "light"
     },
     "output_type": "display_data"
    }
   ],
   "source": [
    "# graph R Train AM AVG EXITS\n",
    "plt = R_commuters_order.plot('STATION','AM_AVG_EXIT', kind='bar', color='#FCCC0A')\n",
    "plt.grid()\n",
    "\n",
    "# save the figa\n",
    "plt.figure.savefig('R-AM-exit.pdf')"
   ]
  },
  {
   "cell_type": "code",
   "execution_count": null,
   "metadata": {},
   "outputs": [],
   "source": []
  }
 ],
 "metadata": {
  "kernelspec": {
   "display_name": "Python 3",
   "language": "python",
   "name": "python3"
  },
  "language_info": {
   "codemirror_mode": {
    "name": "ipython",
    "version": 3
   },
   "file_extension": ".py",
   "mimetype": "text/x-python",
   "name": "python",
   "nbconvert_exporter": "python",
   "pygments_lexer": "ipython3",
   "version": "3.7.3"
  }
 },
 "nbformat": 4,
 "nbformat_minor": 2
}
