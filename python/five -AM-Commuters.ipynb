{
 "cells": [
  {
   "cell_type": "code",
   "execution_count": 1,
   "metadata": {},
   "outputs": [],
   "source": [
    "# 5 train\n",
    "# average AM enters / exits"
   ]
  },
  {
   "cell_type": "code",
   "execution_count": 3,
   "metadata": {},
   "outputs": [],
   "source": [
    "# import Dependencies\n",
    "import pandas as pd\n",
    "import numpy as np\n",
    "import matplotlib.pyplot as plta"
   ]
  },
  {
   "cell_type": "code",
   "execution_count": 4,
   "metadata": {},
   "outputs": [
    {
     "data": {
      "text/html": [
       "<div>\n",
       "<style scoped>\n",
       "    .dataframe tbody tr th:only-of-type {\n",
       "        vertical-align: middle;\n",
       "    }\n",
       "\n",
       "    .dataframe tbody tr th {\n",
       "        vertical-align: top;\n",
       "    }\n",
       "\n",
       "    .dataframe thead th {\n",
       "        text-align: right;\n",
       "    }\n",
       "</style>\n",
       "<table border=\"1\" class=\"dataframe\">\n",
       "  <thead>\n",
       "    <tr style=\"text-align: right;\">\n",
       "      <th></th>\n",
       "      <th>STATION</th>\n",
       "      <th>LINENAME</th>\n",
       "      <th>AM_ENTERS</th>\n",
       "      <th>AM_EXITS</th>\n",
       "    </tr>\n",
       "  </thead>\n",
       "  <tbody>\n",
       "    <tr>\n",
       "      <th>0</th>\n",
       "      <td>1 AV</td>\n",
       "      <td>L</td>\n",
       "      <td>2173.0</td>\n",
       "      <td>5427.0</td>\n",
       "    </tr>\n",
       "    <tr>\n",
       "      <th>1</th>\n",
       "      <td>103 ST</td>\n",
       "      <td>1</td>\n",
       "      <td>7888.0</td>\n",
       "      <td>1943.0</td>\n",
       "    </tr>\n",
       "    <tr>\n",
       "      <th>2</th>\n",
       "      <td>103 ST</td>\n",
       "      <td>6</td>\n",
       "      <td>8439.0</td>\n",
       "      <td>7932.0</td>\n",
       "    </tr>\n",
       "    <tr>\n",
       "      <th>3</th>\n",
       "      <td>103 ST</td>\n",
       "      <td>BC</td>\n",
       "      <td>4581.0</td>\n",
       "      <td>1183.0</td>\n",
       "    </tr>\n",
       "    <tr>\n",
       "      <th>4</th>\n",
       "      <td>103 ST-CORONA</td>\n",
       "      <td>7</td>\n",
       "      <td>22039.0</td>\n",
       "      <td>1903.0</td>\n",
       "    </tr>\n",
       "  </tbody>\n",
       "</table>\n",
       "</div>"
      ],
      "text/plain": [
       "         STATION LINENAME  AM_ENTERS  AM_EXITS\n",
       "0           1 AV        L     2173.0    5427.0\n",
       "1         103 ST        1     7888.0    1943.0\n",
       "2         103 ST        6     8439.0    7932.0\n",
       "3         103 ST       BC     4581.0    1183.0\n",
       "4  103 ST-CORONA        7    22039.0    1903.0"
      ]
     },
     "execution_count": 4,
     "metadata": {},
     "output_type": "execute_result"
    }
   ],
   "source": [
    "# dataframe with all enters/exits\n",
    "csv_path = 'ts_11_2018_am_tot.csv'\n",
    "am_commuters_11_2018 = pd.read_csv(csv_path, encoding=\"utf-8\")\n",
    "\n",
    "am_commuters_11_2018.head()"
   ]
  },
  {
   "cell_type": "code",
   "execution_count": 6,
   "metadata": {},
   "outputs": [],
   "source": [
    "# look at 5 line only\n",
    "five_train_all = am_commuters_11_2018[am_commuters_11_2018['LINENAME'].str.contains('5')]"
   ]
  },
  {
   "cell_type": "code",
   "execution_count": 7,
   "metadata": {},
   "outputs": [
    {
     "data": {
      "text/plain": [
       "array(['125 ST', '138/GRAND CONC', '14 ST-UNION SQ', '149/GRAND CONC',\n",
       "       '174 ST', '219 ST', '225 ST', '233 ST', '3 AV-149 ST', '59 ST',\n",
       "       '86 ST', 'ALLERTON AV', 'ATL AV-BARCLAY', 'BAYCHESTER AV',\n",
       "       'BEVERLY RD', 'BOROUGH HALL', 'BOTANIC GARDEN', 'BOWLING GREEN',\n",
       "       'BRONX PARK EAST', 'BROOKLYN BRIDGE', 'BURKE AV', 'CHAMBERS ST',\n",
       "       'CHURCH AV', 'E 180 ST', 'EASTCHSTER/DYRE', 'FLATBUSH AV-B.C',\n",
       "       'FRANKLIN AV', 'FREEMAN ST', 'FULTON ST', 'GRD CNTRL-42 ST',\n",
       "       'GUN HILL RD', 'INTERVALE AV', 'JACKSON AV', 'MORRIS PARK',\n",
       "       'NEREID AV', 'NEVINS ST', 'NEWKIRK AV', 'PELHAM PKWY',\n",
       "       'PRESIDENT ST', 'PROSPECT AV', 'SIMPSON ST', 'STERLING ST',\n",
       "       'WALL ST', 'WEST FARMS SQ', 'WINTHROP ST'], dtype=object)"
      ]
     },
     "execution_count": 7,
     "metadata": {},
     "output_type": "execute_result"
    }
   ],
   "source": [
    "# look at all station names\n",
    "five_train_all['STATION'].unique()"
   ]
  },
  {
   "cell_type": "code",
   "execution_count": 8,
   "metadata": {},
   "outputs": [
    {
     "data": {
      "text/plain": [
       "52"
      ]
     },
     "execution_count": 8,
     "metadata": {},
     "output_type": "execute_result"
    }
   ],
   "source": [
    "# check station count\n",
    "five_train_all['STATION'].count()"
   ]
  },
  {
   "cell_type": "code",
   "execution_count": 10,
   "metadata": {},
   "outputs": [],
   "source": [
    "# needs further cleaning\n",
    "five_train_all[\"STATION\"].replace(\"CHAMBERS ST\", value=\"BROOKLYN BRIDGE\", inplace=True)\n",
    "five_train_all[\"STATION\"].replace(\"BOTANIC GARDEN\", value=\"FRANKLIN AV\", inplace=True)"
   ]
  },
  {
   "cell_type": "code",
   "execution_count": 12,
   "metadata": {},
   "outputs": [
    {
     "data": {
      "text/html": [
       "<div>\n",
       "<style scoped>\n",
       "    .dataframe tbody tr th:only-of-type {\n",
       "        vertical-align: middle;\n",
       "    }\n",
       "\n",
       "    .dataframe tbody tr th {\n",
       "        vertical-align: top;\n",
       "    }\n",
       "\n",
       "    .dataframe thead th {\n",
       "        text-align: right;\n",
       "    }\n",
       "</style>\n",
       "<table border=\"1\" class=\"dataframe\">\n",
       "  <thead>\n",
       "    <tr style=\"text-align: right;\">\n",
       "      <th></th>\n",
       "      <th>AM_ENTERS</th>\n",
       "      <th>AM_EXITS</th>\n",
       "    </tr>\n",
       "    <tr>\n",
       "      <th>STATION</th>\n",
       "      <th></th>\n",
       "      <th></th>\n",
       "    </tr>\n",
       "  </thead>\n",
       "  <tbody>\n",
       "    <tr>\n",
       "      <th>125 ST</th>\n",
       "      <td>20342.0</td>\n",
       "      <td>18847.0</td>\n",
       "    </tr>\n",
       "    <tr>\n",
       "      <th>138/GRAND CONC</th>\n",
       "      <td>2015.0</td>\n",
       "      <td>1298.0</td>\n",
       "    </tr>\n",
       "    <tr>\n",
       "      <th>14 ST-UNION SQ</th>\n",
       "      <td>17962.0</td>\n",
       "      <td>48134.0</td>\n",
       "    </tr>\n",
       "    <tr>\n",
       "      <th>149/GRAND CONC</th>\n",
       "      <td>4322.0</td>\n",
       "      <td>2052.0</td>\n",
       "    </tr>\n",
       "    <tr>\n",
       "      <th>174 ST</th>\n",
       "      <td>9148.0</td>\n",
       "      <td>3042.0</td>\n",
       "    </tr>\n",
       "  </tbody>\n",
       "</table>\n",
       "</div>"
      ],
      "text/plain": [
       "                AM_ENTERS  AM_EXITS\n",
       "STATION                            \n",
       "125 ST            20342.0   18847.0\n",
       "138/GRAND CONC     2015.0    1298.0\n",
       "14 ST-UNION SQ    17962.0   48134.0\n",
       "149/GRAND CONC     4322.0    2052.0\n",
       "174 ST             9148.0    3042.0"
      ]
     },
     "execution_count": 12,
     "metadata": {},
     "output_type": "execute_result"
    }
   ],
   "source": [
    "# now sum same name rows\n",
    "five_commuters = five_train_all.groupby(['STATION'])[['AM_ENTERS','AM_EXITS']].sum()\n",
    "five_commuters.head()"
   ]
  },
  {
   "cell_type": "code",
   "execution_count": 13,
   "metadata": {},
   "outputs": [],
   "source": [
    "# order stations in excel\n",
    "# save as csv\n",
    "five_commuters.to_csv('five_commuters.csv')"
   ]
  },
  {
   "cell_type": "code",
   "execution_count": 14,
   "metadata": {},
   "outputs": [
    {
     "data": {
      "text/html": [
       "<div>\n",
       "<style scoped>\n",
       "    .dataframe tbody tr th:only-of-type {\n",
       "        vertical-align: middle;\n",
       "    }\n",
       "\n",
       "    .dataframe tbody tr th {\n",
       "        vertical-align: top;\n",
       "    }\n",
       "\n",
       "    .dataframe thead th {\n",
       "        text-align: right;\n",
       "    }\n",
       "</style>\n",
       "<table border=\"1\" class=\"dataframe\">\n",
       "  <thead>\n",
       "    <tr style=\"text-align: right;\">\n",
       "      <th></th>\n",
       "      <th>STATION</th>\n",
       "      <th>AM_ENTERS</th>\n",
       "      <th>AM_EXITS</th>\n",
       "    </tr>\n",
       "  </thead>\n",
       "  <tbody>\n",
       "    <tr>\n",
       "      <th>0</th>\n",
       "      <td>EASTCHSTER/DYRE</td>\n",
       "      <td>9753</td>\n",
       "      <td>2404</td>\n",
       "    </tr>\n",
       "    <tr>\n",
       "      <th>1</th>\n",
       "      <td>BAYCHESTER AV</td>\n",
       "      <td>6655</td>\n",
       "      <td>312</td>\n",
       "    </tr>\n",
       "    <tr>\n",
       "      <th>2</th>\n",
       "      <td>GUN HILL RD</td>\n",
       "      <td>15705</td>\n",
       "      <td>4186</td>\n",
       "    </tr>\n",
       "    <tr>\n",
       "      <th>3</th>\n",
       "      <td>PELHAM PKWY</td>\n",
       "      <td>17299</td>\n",
       "      <td>2451</td>\n",
       "    </tr>\n",
       "    <tr>\n",
       "      <th>4</th>\n",
       "      <td>MORRIS PARK</td>\n",
       "      <td>5371</td>\n",
       "      <td>353</td>\n",
       "    </tr>\n",
       "  </tbody>\n",
       "</table>\n",
       "</div>"
      ],
      "text/plain": [
       "           STATION  AM_ENTERS  AM_EXITS\n",
       "0  EASTCHSTER/DYRE       9753      2404\n",
       "1    BAYCHESTER AV       6655       312\n",
       "2      GUN HILL RD      15705      4186\n",
       "3      PELHAM PKWY      17299      2451\n",
       "4      MORRIS PARK       5371       353"
      ]
     },
     "execution_count": 14,
     "metadata": {},
     "output_type": "execute_result"
    }
   ],
   "source": [
    "# open ordered CSV\n",
    "csv_path_five = 'five_commuters_order.csv'\n",
    "five_commuters_order = pd.read_csv(csv_path_five, encoding=\"utf-8\")\n",
    "five_commuters_order.head()"
   ]
  },
  {
   "cell_type": "code",
   "execution_count": 15,
   "metadata": {},
   "outputs": [],
   "source": [
    "five_commuters_order['AM_AVG_ENTER'] = five_commuters_order['AM_ENTERS']/5"
   ]
  },
  {
   "cell_type": "code",
   "execution_count": 16,
   "metadata": {},
   "outputs": [
    {
     "data": {
      "text/html": [
       "<div>\n",
       "<style scoped>\n",
       "    .dataframe tbody tr th:only-of-type {\n",
       "        vertical-align: middle;\n",
       "    }\n",
       "\n",
       "    .dataframe tbody tr th {\n",
       "        vertical-align: top;\n",
       "    }\n",
       "\n",
       "    .dataframe thead th {\n",
       "        text-align: right;\n",
       "    }\n",
       "</style>\n",
       "<table border=\"1\" class=\"dataframe\">\n",
       "  <thead>\n",
       "    <tr style=\"text-align: right;\">\n",
       "      <th></th>\n",
       "      <th>STATION</th>\n",
       "      <th>AM_ENTERS</th>\n",
       "      <th>AM_EXITS</th>\n",
       "      <th>AM_AVG_ENTER</th>\n",
       "      <th>AM_AVG_EXIT</th>\n",
       "    </tr>\n",
       "  </thead>\n",
       "  <tbody>\n",
       "    <tr>\n",
       "      <th>0</th>\n",
       "      <td>EASTCHSTER/DYRE</td>\n",
       "      <td>9753</td>\n",
       "      <td>2404</td>\n",
       "      <td>1950.6</td>\n",
       "      <td>480.8</td>\n",
       "    </tr>\n",
       "    <tr>\n",
       "      <th>1</th>\n",
       "      <td>BAYCHESTER AV</td>\n",
       "      <td>6655</td>\n",
       "      <td>312</td>\n",
       "      <td>1331.0</td>\n",
       "      <td>62.4</td>\n",
       "    </tr>\n",
       "    <tr>\n",
       "      <th>2</th>\n",
       "      <td>GUN HILL RD</td>\n",
       "      <td>15705</td>\n",
       "      <td>4186</td>\n",
       "      <td>3141.0</td>\n",
       "      <td>837.2</td>\n",
       "    </tr>\n",
       "    <tr>\n",
       "      <th>3</th>\n",
       "      <td>PELHAM PKWY</td>\n",
       "      <td>17299</td>\n",
       "      <td>2451</td>\n",
       "      <td>3459.8</td>\n",
       "      <td>490.2</td>\n",
       "    </tr>\n",
       "    <tr>\n",
       "      <th>4</th>\n",
       "      <td>MORRIS PARK</td>\n",
       "      <td>5371</td>\n",
       "      <td>353</td>\n",
       "      <td>1074.2</td>\n",
       "      <td>70.6</td>\n",
       "    </tr>\n",
       "  </tbody>\n",
       "</table>\n",
       "</div>"
      ],
      "text/plain": [
       "           STATION  AM_ENTERS  AM_EXITS  AM_AVG_ENTER  AM_AVG_EXIT\n",
       "0  EASTCHSTER/DYRE       9753      2404        1950.6        480.8\n",
       "1    BAYCHESTER AV       6655       312        1331.0         62.4\n",
       "2      GUN HILL RD      15705      4186        3141.0        837.2\n",
       "3      PELHAM PKWY      17299      2451        3459.8        490.2\n",
       "4      MORRIS PARK       5371       353        1074.2         70.6"
      ]
     },
     "execution_count": 16,
     "metadata": {},
     "output_type": "execute_result"
    }
   ],
   "source": [
    "five_commuters_order['AM_AVG_EXIT'] = five_commuters_order['AM_EXITS']/5\n",
    "five_commuters_order.head()"
   ]
  },
  {
   "cell_type": "code",
   "execution_count": 17,
   "metadata": {},
   "outputs": [],
   "source": [
    "# order stations in excel\n",
    "# save as csv\n",
    "five_commuters_order.to_csv('five_commuters_final.csv')"
   ]
  },
  {
   "cell_type": "code",
   "execution_count": 18,
   "metadata": {},
   "outputs": [
    {
     "data": {
      "image/png": "[encoded data removed]",
      "text/plain": [
       "<Figure size 432x288 with 1 Axes>"
      ]
     },
     "metadata": {
      "needs_background": "light"
     },
     "output_type": "display_data"
    }
   ],
   "source": [
    "# graph 5 Train AM AVG ENTERS\n",
    "plt = five_commuters_order.plot('STATION','AM_AVG_ENTER', kind='bar', color='#00933C')\n",
    "plt.grid()\n",
    "\n",
    "# save the fig\n",
    "plt.figure.savefig('5-AM-enter.pdf')"
   ]
  },
  {
   "cell_type": "code",
   "execution_count": 19,
   "metadata": {},
   "outputs": [
    {
     "data": {
      "image/png": "[encoded data removed]",
      "text/plain": [
       "<Figure size 432x288 with 1 Axes>"
      ]
     },
     "metadata": {
      "needs_background": "light"
     },
     "output_type": "display_data"
    }
   ],
   "source": [
    "# graph 5 Train AM AVG EXITS\n",
    "plt = five_commuters_order.plot('STATION','AM_AVG_EXIT', kind='bar', color='#00933C')\n",
    "plt.grid()\n",
    "\n",
    "# save the fig\n",
    "plt.figure.savefig('5-AM-exit.pdf')"
   ]
  },
  {
   "cell_type": "code",
   "execution_count": null,
   "metadata": {},
   "outputs": [],
   "source": []
  }
 ],
 "metadata": {
  "kernelspec": {
   "display_name": "Python 3",
   "language": "python",
   "name": "python3"
  },
  "language_info": {
   "codemirror_mode": {
    "name": "ipython",
    "version": 3
   },
   "file_extension": ".py",
   "mimetype": "text/x-python",
   "name": "python",
   "nbconvert_exporter": "python",
   "pygments_lexer": "ipython3",
   "version": "3.7.3"
  }
 },
 "nbformat": 4,
 "nbformat_minor": 2
}
