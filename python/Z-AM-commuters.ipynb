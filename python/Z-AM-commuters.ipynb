{
 "cells": [
  {
   "cell_type": "code",
   "execution_count": 1,
   "metadata": {},
   "outputs": [],
   "source": [
    "# Z train\n",
    "# average AM enters / exits"
   ]
  },
  {
   "cell_type": "code",
   "execution_count": 2,
   "metadata": {},
   "outputs": [],
   "source": [
    "# import Dependencies\n",
    "import pandas as pd\n",
    "import numpy as np\n",
    "import matplotlib.pyplot as plta"
   ]
  },
  {
   "cell_type": "code",
   "execution_count": 3,
   "metadata": {},
   "outputs": [
    {
     "data": {
      "text/html": [
       "<div>\n",
       "<style scoped>\n",
       "    .dataframe tbody tr th:only-of-type {\n",
       "        vertical-align: middle;\n",
       "    }\n",
       "\n",
       "    .dataframe tbody tr th {\n",
       "        vertical-align: top;\n",
       "    }\n",
       "\n",
       "    .dataframe thead th {\n",
       "        text-align: right;\n",
       "    }\n",
       "</style>\n",
       "<table border=\"1\" class=\"dataframe\">\n",
       "  <thead>\n",
       "    <tr style=\"text-align: right;\">\n",
       "      <th></th>\n",
       "      <th>STATION</th>\n",
       "      <th>LINENAME</th>\n",
       "      <th>AM_ENTERS</th>\n",
       "      <th>AM_EXITS</th>\n",
       "    </tr>\n",
       "  </thead>\n",
       "  <tbody>\n",
       "    <tr>\n",
       "      <th>0</th>\n",
       "      <td>1 AV</td>\n",
       "      <td>L</td>\n",
       "      <td>2173.0</td>\n",
       "      <td>5427.0</td>\n",
       "    </tr>\n",
       "    <tr>\n",
       "      <th>1</th>\n",
       "      <td>103 ST</td>\n",
       "      <td>1</td>\n",
       "      <td>7888.0</td>\n",
       "      <td>1943.0</td>\n",
       "    </tr>\n",
       "    <tr>\n",
       "      <th>2</th>\n",
       "      <td>103 ST</td>\n",
       "      <td>6</td>\n",
       "      <td>8439.0</td>\n",
       "      <td>7932.0</td>\n",
       "    </tr>\n",
       "    <tr>\n",
       "      <th>3</th>\n",
       "      <td>103 ST</td>\n",
       "      <td>BC</td>\n",
       "      <td>4581.0</td>\n",
       "      <td>1183.0</td>\n",
       "    </tr>\n",
       "    <tr>\n",
       "      <th>4</th>\n",
       "      <td>103 ST-CORONA</td>\n",
       "      <td>7</td>\n",
       "      <td>22039.0</td>\n",
       "      <td>1903.0</td>\n",
       "    </tr>\n",
       "  </tbody>\n",
       "</table>\n",
       "</div>"
      ],
      "text/plain": [
       "         STATION LINENAME  AM_ENTERS  AM_EXITS\n",
       "0           1 AV        L     2173.0    5427.0\n",
       "1         103 ST        1     7888.0    1943.0\n",
       "2         103 ST        6     8439.0    7932.0\n",
       "3         103 ST       BC     4581.0    1183.0\n",
       "4  103 ST-CORONA        7    22039.0    1903.0"
      ]
     },
     "execution_count": 3,
     "metadata": {},
     "output_type": "execute_result"
    }
   ],
   "source": [
    "# dataframe with all enters/exits\n",
    "csv_path = 'ts_11_2018_am_tot.csv'\n",
    "am_commuters_11_2018 = pd.read_csv(csv_path, encoding=\"utf-8\")\n",
    "\n",
    "am_commuters_11_2018.head()"
   ]
  },
  {
   "cell_type": "code",
   "execution_count": 4,
   "metadata": {},
   "outputs": [],
   "source": [
    "# look at Z line only\n",
    "Z_train_all = am_commuters_11_2018[am_commuters_11_2018['LINENAME'].str.contains('Z')]"
   ]
  },
  {
   "cell_type": "code",
   "execution_count": 5,
   "metadata": {},
   "outputs": [
    {
     "data": {
      "text/plain": [
       "array(['104 ST', '121 ST', '75 ST-ELDERTS', 'BOWERY', 'BROAD ST',\n",
       "       'BROADWAY JCT', 'BROOKLYN BRIDGE', 'CANAL ST', 'CHAMBERS ST',\n",
       "       'CHAUNCEY ST', 'CRESCENT ST', 'DELANCEY/ESSEX', 'FULTON ST',\n",
       "       'GATES AV', 'JAMAICA CENTER', 'MARCY AV', 'MYRTLE AV',\n",
       "       'NORWOOD AV', 'SUTPHIN-ARCHER', 'VAN SICLEN AV', 'WOODHAVEN BLVD'],\n",
       "      dtype=object)"
      ]
     },
     "execution_count": 5,
     "metadata": {},
     "output_type": "execute_result"
    }
   ],
   "source": [
    "# look at all station names\n",
    "Z_train_all['STATION'].unique()"
   ]
  },
  {
   "cell_type": "code",
   "execution_count": 6,
   "metadata": {},
   "outputs": [
    {
     "data": {
      "text/plain": [
       "22"
      ]
     },
     "execution_count": 6,
     "metadata": {},
     "output_type": "execute_result"
    }
   ],
   "source": [
    "# check station count\n",
    "Z_train_all['STATION'].count()"
   ]
  },
  {
   "cell_type": "code",
   "execution_count": 8,
   "metadata": {},
   "outputs": [],
   "source": [
    "# needs further cleaning\n",
    "Z_train_all[\"STATION\"].replace(\"BROOKLYN BRIDGE\", value=\"CHAMBERS ST\", inplace=True)"
   ]
  },
  {
   "cell_type": "code",
   "execution_count": 10,
   "metadata": {},
   "outputs": [
    {
     "data": {
      "text/html": [
       "<div>\n",
       "<style scoped>\n",
       "    .dataframe tbody tr th:only-of-type {\n",
       "        vertical-align: middle;\n",
       "    }\n",
       "\n",
       "    .dataframe tbody tr th {\n",
       "        vertical-align: top;\n",
       "    }\n",
       "\n",
       "    .dataframe thead th {\n",
       "        text-align: right;\n",
       "    }\n",
       "</style>\n",
       "<table border=\"1\" class=\"dataframe\">\n",
       "  <thead>\n",
       "    <tr style=\"text-align: right;\">\n",
       "      <th></th>\n",
       "      <th>AM_ENTERS</th>\n",
       "      <th>AM_EXITS</th>\n",
       "    </tr>\n",
       "    <tr>\n",
       "      <th>STATION</th>\n",
       "      <th></th>\n",
       "      <th></th>\n",
       "    </tr>\n",
       "  </thead>\n",
       "  <tbody>\n",
       "    <tr>\n",
       "      <th>104 ST</th>\n",
       "      <td>1539.0</td>\n",
       "      <td>35.0</td>\n",
       "    </tr>\n",
       "    <tr>\n",
       "      <th>121 ST</th>\n",
       "      <td>1251.0</td>\n",
       "      <td>253.0</td>\n",
       "    </tr>\n",
       "    <tr>\n",
       "      <th>75 ST-ELDERTS</th>\n",
       "      <td>3857.0</td>\n",
       "      <td>295.0</td>\n",
       "    </tr>\n",
       "    <tr>\n",
       "      <th>BOWERY</th>\n",
       "      <td>354.0</td>\n",
       "      <td>1023.0</td>\n",
       "    </tr>\n",
       "    <tr>\n",
       "      <th>BROAD ST</th>\n",
       "      <td>841.0</td>\n",
       "      <td>2089.0</td>\n",
       "    </tr>\n",
       "  </tbody>\n",
       "</table>\n",
       "</div>"
      ],
      "text/plain": [
       "               AM_ENTERS  AM_EXITS\n",
       "STATION                           \n",
       "104 ST            1539.0      35.0\n",
       "121 ST            1251.0     253.0\n",
       "75 ST-ELDERTS     3857.0     295.0\n",
       "BOWERY             354.0    1023.0\n",
       "BROAD ST           841.0    2089.0"
      ]
     },
     "execution_count": 10,
     "metadata": {},
     "output_type": "execute_result"
    }
   ],
   "source": [
    "# now sum same name rows\n",
    "Z_commuters = Z_train_all.groupby(['STATION'])[['AM_ENTERS','AM_EXITS']].sum()\n",
    "Z_commuters.head()"
   ]
  },
  {
   "cell_type": "code",
   "execution_count": 11,
   "metadata": {},
   "outputs": [],
   "source": [
    "# order stations in excel\n",
    "# save as csv\n",
    "Z_commuters.to_csv('Z_commuters.csv')"
   ]
  },
  {
   "cell_type": "code",
   "execution_count": 13,
   "metadata": {},
   "outputs": [
    {
     "data": {
      "text/html": [
       "<div>\n",
       "<style scoped>\n",
       "    .dataframe tbody tr th:only-of-type {\n",
       "        vertical-align: middle;\n",
       "    }\n",
       "\n",
       "    .dataframe tbody tr th {\n",
       "        vertical-align: top;\n",
       "    }\n",
       "\n",
       "    .dataframe thead th {\n",
       "        text-align: right;\n",
       "    }\n",
       "</style>\n",
       "<table border=\"1\" class=\"dataframe\">\n",
       "  <thead>\n",
       "    <tr style=\"text-align: right;\">\n",
       "      <th></th>\n",
       "      <th>STATION</th>\n",
       "      <th>AM_ENTERS</th>\n",
       "      <th>AM_EXITS</th>\n",
       "    </tr>\n",
       "  </thead>\n",
       "  <tbody>\n",
       "    <tr>\n",
       "      <th>0</th>\n",
       "      <td>JAMAICA CENTER</td>\n",
       "      <td>33067</td>\n",
       "      <td>5697</td>\n",
       "    </tr>\n",
       "    <tr>\n",
       "      <th>1</th>\n",
       "      <td>SUTPHIN-ARCHER</td>\n",
       "      <td>22381</td>\n",
       "      <td>9521</td>\n",
       "    </tr>\n",
       "    <tr>\n",
       "      <th>2</th>\n",
       "      <td>121 ST</td>\n",
       "      <td>1251</td>\n",
       "      <td>253</td>\n",
       "    </tr>\n",
       "    <tr>\n",
       "      <th>3</th>\n",
       "      <td>104 ST</td>\n",
       "      <td>1539</td>\n",
       "      <td>35</td>\n",
       "    </tr>\n",
       "    <tr>\n",
       "      <th>4</th>\n",
       "      <td>WOODHAVEN BLVD</td>\n",
       "      <td>3887</td>\n",
       "      <td>579</td>\n",
       "    </tr>\n",
       "  </tbody>\n",
       "</table>\n",
       "</div>"
      ],
      "text/plain": [
       "          STATION  AM_ENTERS  AM_EXITS\n",
       "0  JAMAICA CENTER      33067      5697\n",
       "1  SUTPHIN-ARCHER      22381      9521\n",
       "2          121 ST       1251       253\n",
       "3          104 ST       1539        35\n",
       "4  WOODHAVEN BLVD       3887       579"
      ]
     },
     "execution_count": 13,
     "metadata": {},
     "output_type": "execute_result"
    }
   ],
   "source": [
    "# open ordered CSV\n",
    "csv_path_Z = 'Z_commuters_order.csv'\n",
    "Z_commuters_order = pd.read_csv(csv_path_Z, encoding=\"utf-8\")\n",
    "Z_commuters_order.head()"
   ]
  },
  {
   "cell_type": "code",
   "execution_count": 14,
   "metadata": {},
   "outputs": [],
   "source": [
    "Z_commuters_order['AM_AVG_ENTER'] = Z_commuters_order['AM_ENTERS']/5"
   ]
  },
  {
   "cell_type": "code",
   "execution_count": 15,
   "metadata": {},
   "outputs": [
    {
     "data": {
      "text/html": [
       "<div>\n",
       "<style scoped>\n",
       "    .dataframe tbody tr th:only-of-type {\n",
       "        vertical-align: middle;\n",
       "    }\n",
       "\n",
       "    .dataframe tbody tr th {\n",
       "        vertical-align: top;\n",
       "    }\n",
       "\n",
       "    .dataframe thead th {\n",
       "        text-align: right;\n",
       "    }\n",
       "</style>\n",
       "<table border=\"1\" class=\"dataframe\">\n",
       "  <thead>\n",
       "    <tr style=\"text-align: right;\">\n",
       "      <th></th>\n",
       "      <th>STATION</th>\n",
       "      <th>AM_ENTERS</th>\n",
       "      <th>AM_EXITS</th>\n",
       "      <th>AM_AVG_ENTER</th>\n",
       "      <th>AM_AVG_EXIT</th>\n",
       "    </tr>\n",
       "  </thead>\n",
       "  <tbody>\n",
       "    <tr>\n",
       "      <th>0</th>\n",
       "      <td>JAMAICA CENTER</td>\n",
       "      <td>33067</td>\n",
       "      <td>5697</td>\n",
       "      <td>6613.4</td>\n",
       "      <td>1139.4</td>\n",
       "    </tr>\n",
       "    <tr>\n",
       "      <th>1</th>\n",
       "      <td>SUTPHIN-ARCHER</td>\n",
       "      <td>22381</td>\n",
       "      <td>9521</td>\n",
       "      <td>4476.2</td>\n",
       "      <td>1904.2</td>\n",
       "    </tr>\n",
       "    <tr>\n",
       "      <th>2</th>\n",
       "      <td>121 ST</td>\n",
       "      <td>1251</td>\n",
       "      <td>253</td>\n",
       "      <td>250.2</td>\n",
       "      <td>50.6</td>\n",
       "    </tr>\n",
       "    <tr>\n",
       "      <th>3</th>\n",
       "      <td>104 ST</td>\n",
       "      <td>1539</td>\n",
       "      <td>35</td>\n",
       "      <td>307.8</td>\n",
       "      <td>7.0</td>\n",
       "    </tr>\n",
       "    <tr>\n",
       "      <th>4</th>\n",
       "      <td>WOODHAVEN BLVD</td>\n",
       "      <td>3887</td>\n",
       "      <td>579</td>\n",
       "      <td>777.4</td>\n",
       "      <td>115.8</td>\n",
       "    </tr>\n",
       "  </tbody>\n",
       "</table>\n",
       "</div>"
      ],
      "text/plain": [
       "          STATION  AM_ENTERS  AM_EXITS  AM_AVG_ENTER  AM_AVG_EXIT\n",
       "0  JAMAICA CENTER      33067      5697        6613.4       1139.4\n",
       "1  SUTPHIN-ARCHER      22381      9521        4476.2       1904.2\n",
       "2          121 ST       1251       253         250.2         50.6\n",
       "3          104 ST       1539        35         307.8          7.0\n",
       "4  WOODHAVEN BLVD       3887       579         777.4        115.8"
      ]
     },
     "execution_count": 15,
     "metadata": {},
     "output_type": "execute_result"
    }
   ],
   "source": [
    "Z_commuters_order['AM_AVG_EXIT'] = Z_commuters_order['AM_EXITS']/5\n",
    "Z_commuters_order.head()"
   ]
  },
  {
   "cell_type": "code",
   "execution_count": 16,
   "metadata": {},
   "outputs": [],
   "source": [
    "# order stations in excel\n",
    "# save as csv\n",
    "Z_commuters_order.to_csv('Z_commuters_final.csv')"
   ]
  },
  {
   "cell_type": "code",
   "execution_count": 17,
   "metadata": {},
   "outputs": [
    {
     "data": {
      "image/png": "[encoded data removed]",
      "text/plain": [
       "<Figure size 432x288 with 1 Axes>"
      ]
     },
     "metadata": {
      "needs_background": "light"
     },
     "output_type": "display_data"
    }
   ],
   "source": [
    "# graph Z Train AM AVG ENTERS\n",
    "plt = Z_commuters_order.plot('STATION','AM_AVG_ENTER', kind='bar', color='#996633')\n",
    "plt.grid()\n",
    "\n",
    "# save the fig\n",
    "plt.figure.savefig('Z-AM-enter.pdf')"
   ]
  },
  {
   "cell_type": "code",
   "execution_count": 18,
   "metadata": {},
   "outputs": [
    {
     "data": {
      "image/png": "[encoded data removed]",
      "text/plain": [
       "<Figure size 432x288 with 1 Axes>"
      ]
     },
     "metadata": {
      "needs_background": "light"
     },
     "output_type": "display_data"
    }
   ],
   "source": [
    "# graph Z Train AM AVG EXITS\n",
    "plt = Z_commuters_order.plot('STATION','AM_AVG_EXIT', kind='bar', color='#996633')\n",
    "plt.grid()\n",
    "\n",
    "# save the fig\n",
    "plt.figure.savefig('Z-AM-exit.pdf')"
   ]
  },
  {
   "cell_type": "code",
   "execution_count": null,
   "metadata": {},
   "outputs": [],
   "source": []
  }
 ],
 "metadata": {
  "kernelspec": {
   "display_name": "Python 3",
   "language": "python",
   "name": "python3"
  },
  "language_info": {
   "codemirror_mode": {
    "name": "ipython",
    "version": 3
   },
   "file_extension": ".py",
   "mimetype": "text/x-python",
   "name": "python",
   "nbconvert_exporter": "python",
   "pygments_lexer": "ipython3",
   "version": "3.7.3"
  }
 },
 "nbformat": 4,
 "nbformat_minor": 2
}
