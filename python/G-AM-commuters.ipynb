{
 "cells": [
  {
   "cell_type": "code",
   "execution_count": 1,
   "metadata": {},
   "outputs": [],
   "source": [
    "# G train\n",
    "# average AM enters / exits"
   ]
  },
  {
   "cell_type": "code",
   "execution_count": 2,
   "metadata": {},
   "outputs": [],
   "source": [
    "# import Dependencies\n",
    "import pandas as pd\n",
    "import numpy as np\n",
    "import matplotlib.pyplot as plta"
   ]
  },
  {
   "cell_type": "code",
   "execution_count": 4,
   "metadata": {},
   "outputs": [
    {
     "data": {
      "text/html": [
       "<div>\n",
       "<style scoped>\n",
       "    .dataframe tbody tr th:only-of-type {\n",
       "        vertical-align: middle;\n",
       "    }\n",
       "\n",
       "    .dataframe tbody tr th {\n",
       "        vertical-align: top;\n",
       "    }\n",
       "\n",
       "    .dataframe thead th {\n",
       "        text-align: right;\n",
       "    }\n",
       "</style>\n",
       "<table border=\"1\" class=\"dataframe\">\n",
       "  <thead>\n",
       "    <tr style=\"text-align: right;\">\n",
       "      <th></th>\n",
       "      <th>STATION</th>\n",
       "      <th>LINENAME</th>\n",
       "      <th>AM_ENTERS</th>\n",
       "      <th>AM_EXITS</th>\n",
       "    </tr>\n",
       "  </thead>\n",
       "  <tbody>\n",
       "    <tr>\n",
       "      <th>0</th>\n",
       "      <td>1 AV</td>\n",
       "      <td>L</td>\n",
       "      <td>2173.0</td>\n",
       "      <td>5427.0</td>\n",
       "    </tr>\n",
       "    <tr>\n",
       "      <th>1</th>\n",
       "      <td>103 ST</td>\n",
       "      <td>1</td>\n",
       "      <td>7888.0</td>\n",
       "      <td>1943.0</td>\n",
       "    </tr>\n",
       "    <tr>\n",
       "      <th>2</th>\n",
       "      <td>103 ST</td>\n",
       "      <td>6</td>\n",
       "      <td>8439.0</td>\n",
       "      <td>7932.0</td>\n",
       "    </tr>\n",
       "    <tr>\n",
       "      <th>3</th>\n",
       "      <td>103 ST</td>\n",
       "      <td>BC</td>\n",
       "      <td>4581.0</td>\n",
       "      <td>1183.0</td>\n",
       "    </tr>\n",
       "    <tr>\n",
       "      <th>4</th>\n",
       "      <td>103 ST-CORONA</td>\n",
       "      <td>7</td>\n",
       "      <td>22039.0</td>\n",
       "      <td>1903.0</td>\n",
       "    </tr>\n",
       "  </tbody>\n",
       "</table>\n",
       "</div>"
      ],
      "text/plain": [
       "         STATION LINENAME  AM_ENTERS  AM_EXITS\n",
       "0           1 AV        L     2173.0    5427.0\n",
       "1         103 ST        1     7888.0    1943.0\n",
       "2         103 ST        6     8439.0    7932.0\n",
       "3         103 ST       BC     4581.0    1183.0\n",
       "4  103 ST-CORONA        7    22039.0    1903.0"
      ]
     },
     "execution_count": 4,
     "metadata": {},
     "output_type": "execute_result"
    }
   ],
   "source": [
    "# dataframe with all enters/exits\n",
    "csv_path = 'ts_11_2018_am_tot.csv'\n",
    "am_commuters_11_2018 = pd.read_csv(csv_path, encoding=\"utf-8\")\n",
    "\n",
    "am_commuters_11_2018.head()"
   ]
  },
  {
   "cell_type": "code",
   "execution_count": 17,
   "metadata": {},
   "outputs": [],
   "source": [
    "# look at G line only\n",
    "G_train_all = am_commuters_11_2018[am_commuters_11_2018['LINENAME'].str.contains('G')]"
   ]
  },
  {
   "cell_type": "code",
   "execution_count": 18,
   "metadata": {},
   "outputs": [
    {
     "data": {
      "text/plain": [
       "array(['15 ST-PROSPECT', '21 ST', '4 AV-9 ST', '42 ST-PORT AUTH',\n",
       "       '4AV-9 ST', '7 AV', 'BEDFORD-NOSTRAN', 'BERGEN ST', 'BROADWAY',\n",
       "       'CARROLL ST', 'CHURCH AV', 'CLASSON AV', 'CLINTON-WASH AV',\n",
       "       'COURT SQ', 'COURT SQ-23 ST', 'FLUSHING AV', 'FT HAMILTON PKY',\n",
       "       'FULTON ST', 'GREENPOINT AV', 'HOYT-SCHER', 'LORIMER ST',\n",
       "       'METROPOLITAN AV', 'MYRTLE-WILLOUGH', 'NASSAU AV', 'SMITH-9 ST'],\n",
       "      dtype=object)"
      ]
     },
     "execution_count": 18,
     "metadata": {},
     "output_type": "execute_result"
    }
   ],
   "source": [
    "# look at all station names\n",
    "G_train_all['STATION'].unique()"
   ]
  },
  {
   "cell_type": "code",
   "execution_count": 19,
   "metadata": {},
   "outputs": [
    {
     "data": {
      "text/plain": [
       "25"
      ]
     },
     "execution_count": 19,
     "metadata": {},
     "output_type": "execute_result"
    }
   ],
   "source": [
    "# check station count\n",
    "G_train_all['STATION'].count()"
   ]
  },
  {
   "cell_type": "code",
   "execution_count": 20,
   "metadata": {},
   "outputs": [],
   "source": [
    "# clean station names\n",
    "# needs further cleaning\n",
    "G_train_all[\"STATION\"].replace(\"COURT SQ\", value=\"COURT SQ-23 ST\", inplace=True)\n",
    "G_train_all[\"STATION\"].replace(\"LORIMER ST\", value=\"METROPOLITAN AV\", inplace=True)\n",
    "G_train_all[\"STATION\"].replace(\"4AV-9 ST\", value=\"4 AV-9 ST\", inplace=True)"
   ]
  },
  {
   "cell_type": "code",
   "execution_count": 21,
   "metadata": {},
   "outputs": [
    {
     "data": {
      "text/html": [
       "<div>\n",
       "<style scoped>\n",
       "    .dataframe tbody tr th:only-of-type {\n",
       "        vertical-align: middle;\n",
       "    }\n",
       "\n",
       "    .dataframe tbody tr th {\n",
       "        vertical-align: top;\n",
       "    }\n",
       "\n",
       "    .dataframe thead th {\n",
       "        text-align: right;\n",
       "    }\n",
       "</style>\n",
       "<table border=\"1\" class=\"dataframe\">\n",
       "  <thead>\n",
       "    <tr style=\"text-align: right;\">\n",
       "      <th></th>\n",
       "      <th>AM_ENTERS</th>\n",
       "      <th>AM_EXITS</th>\n",
       "    </tr>\n",
       "    <tr>\n",
       "      <th>STATION</th>\n",
       "      <th></th>\n",
       "      <th></th>\n",
       "    </tr>\n",
       "  </thead>\n",
       "  <tbody>\n",
       "    <tr>\n",
       "      <th>15 ST-PROSPECT</th>\n",
       "      <td>3160.0</td>\n",
       "      <td>578.0</td>\n",
       "    </tr>\n",
       "    <tr>\n",
       "      <th>21 ST</th>\n",
       "      <td>604.0</td>\n",
       "      <td>2018.0</td>\n",
       "    </tr>\n",
       "    <tr>\n",
       "      <th>4 AV-9 ST</th>\n",
       "      <td>2427.0</td>\n",
       "      <td>2738.0</td>\n",
       "    </tr>\n",
       "    <tr>\n",
       "      <th>42 ST-PORT AUTH</th>\n",
       "      <td>6912.0</td>\n",
       "      <td>12853.0</td>\n",
       "    </tr>\n",
       "    <tr>\n",
       "      <th>7 AV</th>\n",
       "      <td>8270.0</td>\n",
       "      <td>3252.0</td>\n",
       "    </tr>\n",
       "  </tbody>\n",
       "</table>\n",
       "</div>"
      ],
      "text/plain": [
       "                 AM_ENTERS  AM_EXITS\n",
       "STATION                             \n",
       "15 ST-PROSPECT      3160.0     578.0\n",
       "21 ST                604.0    2018.0\n",
       "4 AV-9 ST           2427.0    2738.0\n",
       "42 ST-PORT AUTH     6912.0   12853.0\n",
       "7 AV                8270.0    3252.0"
      ]
     },
     "execution_count": 21,
     "metadata": {},
     "output_type": "execute_result"
    }
   ],
   "source": [
    "# now sum same name rows\n",
    "G_commuters = G_train_all.groupby(['STATION'])[['AM_ENTERS','AM_EXITS']].sum()\n",
    "G_commuters.head()"
   ]
  },
  {
   "cell_type": "code",
   "execution_count": 22,
   "metadata": {},
   "outputs": [],
   "source": [
    "# order stations in excel\n",
    "# save as csv\n",
    "G_commuters.to_csv('G_commuters.csv')"
   ]
  },
  {
   "cell_type": "code",
   "execution_count": 23,
   "metadata": {},
   "outputs": [
    {
     "data": {
      "text/html": [
       "<div>\n",
       "<style scoped>\n",
       "    .dataframe tbody tr th:only-of-type {\n",
       "        vertical-align: middle;\n",
       "    }\n",
       "\n",
       "    .dataframe tbody tr th {\n",
       "        vertical-align: top;\n",
       "    }\n",
       "\n",
       "    .dataframe thead th {\n",
       "        text-align: right;\n",
       "    }\n",
       "</style>\n",
       "<table border=\"1\" class=\"dataframe\">\n",
       "  <thead>\n",
       "    <tr style=\"text-align: right;\">\n",
       "      <th></th>\n",
       "      <th>STATION</th>\n",
       "      <th>AM_ENTERS</th>\n",
       "      <th>AM_EXITS</th>\n",
       "    </tr>\n",
       "  </thead>\n",
       "  <tbody>\n",
       "    <tr>\n",
       "      <th>0</th>\n",
       "      <td>COURT SQ-23 ST</td>\n",
       "      <td>2791</td>\n",
       "      <td>5542</td>\n",
       "    </tr>\n",
       "    <tr>\n",
       "      <th>1</th>\n",
       "      <td>21 ST</td>\n",
       "      <td>604</td>\n",
       "      <td>2018</td>\n",
       "    </tr>\n",
       "    <tr>\n",
       "      <th>2</th>\n",
       "      <td>GREENPOINT AV</td>\n",
       "      <td>2440</td>\n",
       "      <td>2093</td>\n",
       "    </tr>\n",
       "    <tr>\n",
       "      <th>3</th>\n",
       "      <td>NASSAU AV</td>\n",
       "      <td>2605</td>\n",
       "      <td>1265</td>\n",
       "    </tr>\n",
       "    <tr>\n",
       "      <th>4</th>\n",
       "      <td>METROPOLITAN AV</td>\n",
       "      <td>8417</td>\n",
       "      <td>2457</td>\n",
       "    </tr>\n",
       "  </tbody>\n",
       "</table>\n",
       "</div>"
      ],
      "text/plain": [
       "           STATION  AM_ENTERS  AM_EXITS\n",
       "0   COURT SQ-23 ST       2791      5542\n",
       "1            21 ST        604      2018\n",
       "2    GREENPOINT AV       2440      2093\n",
       "3        NASSAU AV       2605      1265\n",
       "4  METROPOLITAN AV       8417      2457"
      ]
     },
     "execution_count": 23,
     "metadata": {},
     "output_type": "execute_result"
    }
   ],
   "source": [
    "# open ordered CSV\n",
    "csv_path_G = 'G_commuters_order.csv'\n",
    "G_commuters_order = pd.read_csv(csv_path_G, encoding=\"utf-8\")\n",
    "G_commuters_order.head()"
   ]
  },
  {
   "cell_type": "code",
   "execution_count": 24,
   "metadata": {},
   "outputs": [],
   "source": [
    "G_commuters_order['AM_AVG_ENTER'] = G_commuters_order['AM_ENTERS']/5"
   ]
  },
  {
   "cell_type": "code",
   "execution_count": 25,
   "metadata": {},
   "outputs": [
    {
     "data": {
      "text/html": [
       "<div>\n",
       "<style scoped>\n",
       "    .dataframe tbody tr th:only-of-type {\n",
       "        vertical-align: middle;\n",
       "    }\n",
       "\n",
       "    .dataframe tbody tr th {\n",
       "        vertical-align: top;\n",
       "    }\n",
       "\n",
       "    .dataframe thead th {\n",
       "        text-align: right;\n",
       "    }\n",
       "</style>\n",
       "<table border=\"1\" class=\"dataframe\">\n",
       "  <thead>\n",
       "    <tr style=\"text-align: right;\">\n",
       "      <th></th>\n",
       "      <th>STATION</th>\n",
       "      <th>AM_ENTERS</th>\n",
       "      <th>AM_EXITS</th>\n",
       "      <th>AM_AVG_ENTER</th>\n",
       "      <th>AM_AVG_EXIT</th>\n",
       "    </tr>\n",
       "  </thead>\n",
       "  <tbody>\n",
       "    <tr>\n",
       "      <th>0</th>\n",
       "      <td>COURT SQ-23 ST</td>\n",
       "      <td>2791</td>\n",
       "      <td>5542</td>\n",
       "      <td>558.2</td>\n",
       "      <td>1108.4</td>\n",
       "    </tr>\n",
       "    <tr>\n",
       "      <th>1</th>\n",
       "      <td>21 ST</td>\n",
       "      <td>604</td>\n",
       "      <td>2018</td>\n",
       "      <td>120.8</td>\n",
       "      <td>403.6</td>\n",
       "    </tr>\n",
       "    <tr>\n",
       "      <th>2</th>\n",
       "      <td>GREENPOINT AV</td>\n",
       "      <td>2440</td>\n",
       "      <td>2093</td>\n",
       "      <td>488.0</td>\n",
       "      <td>418.6</td>\n",
       "    </tr>\n",
       "    <tr>\n",
       "      <th>3</th>\n",
       "      <td>NASSAU AV</td>\n",
       "      <td>2605</td>\n",
       "      <td>1265</td>\n",
       "      <td>521.0</td>\n",
       "      <td>253.0</td>\n",
       "    </tr>\n",
       "    <tr>\n",
       "      <th>4</th>\n",
       "      <td>METROPOLITAN AV</td>\n",
       "      <td>8417</td>\n",
       "      <td>2457</td>\n",
       "      <td>1683.4</td>\n",
       "      <td>491.4</td>\n",
       "    </tr>\n",
       "  </tbody>\n",
       "</table>\n",
       "</div>"
      ],
      "text/plain": [
       "           STATION  AM_ENTERS  AM_EXITS  AM_AVG_ENTER  AM_AVG_EXIT\n",
       "0   COURT SQ-23 ST       2791      5542         558.2       1108.4\n",
       "1            21 ST        604      2018         120.8        403.6\n",
       "2    GREENPOINT AV       2440      2093         488.0        418.6\n",
       "3        NASSAU AV       2605      1265         521.0        253.0\n",
       "4  METROPOLITAN AV       8417      2457        1683.4        491.4"
      ]
     },
     "execution_count": 25,
     "metadata": {},
     "output_type": "execute_result"
    }
   ],
   "source": [
    "G_commuters_order['AM_AVG_EXIT'] = G_commuters_order['AM_EXITS']/5\n",
    "G_commuters_order.head()"
   ]
  },
  {
   "cell_type": "code",
   "execution_count": 15,
   "metadata": {},
   "outputs": [],
   "source": [
    "# order stations in excel\n",
    "# save as csv\n",
    "G_commuters_order.to_csv('G_commuters_final.csv')"
   ]
  },
  {
   "cell_type": "code",
   "execution_count": 26,
   "metadata": {},
   "outputs": [
    {
     "data": {
      "image/png": "[encoded data removed]",
      "text/plain": [
       "<Figure size 432x288 with 1 Axes>"
      ]
     },
     "metadata": {
      "needs_background": "light"
     },
     "output_type": "display_data"
    }
   ],
   "source": [
    "# graph G Train AM AVG ENTERS\n",
    "plt = G_commuters_order.plot('STATION','AM_AVG_ENTER', kind='bar', color='#6CBE45')\n",
    "\n",
    "plt.grid()\n",
    "\n",
    "# save the fig\n",
    "plt.figure.savefig('G-AM-enter.pdf')"
   ]
  },
  {
   "cell_type": "code",
   "execution_count": 27,
   "metadata": {},
   "outputs": [
    {
     "data": {
      "image/png": "[encoded data removed]",
      "text/plain": [
       "<Figure size 432x288 with 1 Axes>"
      ]
     },
     "metadata": {
      "needs_background": "light"
     },
     "output_type": "display_data"
    }
   ],
   "source": [
    "# graph G Train AM AVG EXITS\n",
    "plt = G_commuters_order.plot('STATION','AM_AVG_EXIT', kind='bar', color='#6CBE45')\n",
    "plt.grid()\n",
    "\n",
    "# save the fig\n",
    "plt.figure.savefig('G-AM-exit.pdf')"
   ]
  },
  {
   "cell_type": "code",
   "execution_count": null,
   "metadata": {},
   "outputs": [],
   "source": []
  },
  {
   "cell_type": "code",
   "execution_count": null,
   "metadata": {},
   "outputs": [],
   "source": []
  }
 ],
 "metadata": {
  "kernelspec": {
   "display_name": "Python 3",
   "language": "python",
   "name": "python3"
  },
  "language_info": {
   "codemirror_mode": {
    "name": "ipython",
    "version": 3
   },
   "file_extension": ".py",
   "mimetype": "text/x-python",
   "name": "python",
   "nbconvert_exporter": "python",
   "pygments_lexer": "ipython3",
   "version": "3.7.3"
  }
 },
 "nbformat": 4,
 "nbformat_minor": 2
}
